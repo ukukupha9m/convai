{
 "cells": [
  {
   "cell_type": "code",
   "execution_count": 15,
   "metadata": {
    "collapsed": true
   },
   "outputs": [],
   "source": [
    "import json"
   ]
  },
  {
   "cell_type": "code",
   "execution_count": 16,
   "metadata": {
    "collapsed": true
   },
   "outputs": [],
   "source": [
    "with open(\"data/train_full.json\") as f:\n",
    "    dataset = json.load(f)"
   ]
  },
  {
   "cell_type": "code",
   "execution_count": 17,
   "metadata": {},
   "outputs": [
    {
     "data": {
      "text/plain": [
       "(2778,\n",
       " [{'context': 'The decline of the city reached its nadir with the War of Spanish Succession (1702–1709) that marked the end of the political and legal independence of the Kingdom of Valencia. During the War of the Spanish Succession, Valencia sided with Charles of Austria. On 24 January 1706, Charles Mordaunt, 3rd Earl of Peterborough, 1st Earl of Monmouth, led a handful of English cavalrymen into the city after riding south from Barcelona, capturing the nearby fortress at Sagunt, and bluffing the Spanish Bourbon army into withdrawal.',\n",
       "   'dialogId': -315877751,\n",
       "   'evaluation': [{'breadth': 2,\n",
       "     'engagement': 1,\n",
       "     'quality': 4,\n",
       "     'userId': 'Bob'},\n",
       "    {'breadth': 1, 'engagement': 1, 'quality': 1, 'userId': 'Alice'}],\n",
       "   'thread': [{'evaluation': 0,\n",
       "     'text': 'Hi! As for me, I thought Spain got united much earlier',\n",
       "     'userId': 'Bob'}],\n",
       "   'users': [{'id': 'Alice', 'userType': 'Human'},\n",
       "    {'id': 'Bob', 'userType': 'Human'}]},\n",
       "  {'context': 'Eduardo Bonilla-Silva, Sociology professor at Duke University, remarks, \"I contend that racism is, more than anything else, a matter of group power; it is about a dominant racial group (whites) striving to maintain its systemic advantages and minorities fighting to subvert the racial status quo.\"  The types of practices that take place under this new color-blind racism is subtle, institutionalized, and supposedly not racial. Color-blind racism thrives on the idea that race is no longer an issue in the United States. There are contradictions between the alleged color-blindness of most whites and the persistence of a color-coded system of inequality.',\n",
       "   'dialogId': -1063204396,\n",
       "   'evaluation': [{'breadth': 1,\n",
       "     'engagement': 1,\n",
       "     'quality': 1,\n",
       "     'userId': 'Bob'},\n",
       "    {'breadth': 1, 'engagement': 1, 'quality': 1, 'userId': 'Alice'}],\n",
       "   'thread': [{'evaluation': 0, 'text': 'Hi', 'userId': 'Alice'}],\n",
       "   'users': [{'id': 'Alice', 'userType': 'Human'},\n",
       "    {'id': 'Bob', 'userType': 'Human'}]},\n",
       "  {'context': \"Originally, every electronic component had wire leads, and the PCB had holes drilled for each wire of each component. The components' leads were then passed through the holes and soldered to the PCB trace. This method of assembly is called through-hole construction. In 1949, Moe Abramson and Stanislaus F. Danko of the United States Army Signal Corps developed the Auto-Sembly process in which component leads were inserted into a copper foil interconnection pattern and dip soldered. The patent they obtained in 1956 was assigned to the U.S. Army. With the development of board lamination and etching techniques, this concept evolved into the standard printed circuit board fabrication process in use today. Soldering could be done automatically by passing the board over a ripple, or wave, of molten solder in a wave-soldering machine. However, the wires and holes are wasteful since drilling holes is expensive and the protruding wires are merely cut off.\",\n",
       "   'dialogId': -749262821,\n",
       "   'evaluation': [{'breadth': 1,\n",
       "     'engagement': 1,\n",
       "     'quality': 1,\n",
       "     'userId': 'Bob'},\n",
       "    {'breadth': 2, 'engagement': 2, 'quality': 2, 'userId': 'Alice'}],\n",
       "   'thread': [{'evaluation': 2, 'text': 'Hi', 'userId': 'Bob'},\n",
       "    {'evaluation': 0, 'text': 'Hi', 'userId': 'Alice'},\n",
       "    {'evaluation': 0, 'text': 'What do you think abouy it?', 'userId': 'Bob'},\n",
       "    {'evaluation': 0, 'text': 'About what?', 'userId': 'Alice'},\n",
       "    {'evaluation': 0, 'text': 'About text', 'userId': 'Bob'}],\n",
       "   'users': [{'id': 'Alice', 'userType': 'Human'},\n",
       "    {'id': 'Bob', 'userType': 'Human'}]}])"
      ]
     },
     "execution_count": 17,
     "metadata": {},
     "output_type": "execute_result"
    }
   ],
   "source": [
    "len(dataset), dataset[:3]"
   ]
  },
  {
   "cell_type": "code",
   "execution_count": 18,
   "metadata": {
    "collapsed": true
   },
   "outputs": [],
   "source": [
    "filtered = []\n",
    "for d in dataset:\n",
    "    eval1 = d['evaluation'][0]['quality']\n",
    "    eval2 = d['evaluation'][1]['quality']\n",
    "    if len(d['thread']) < 4 and (eval1 > 3 or eval2 > 3):\n",
    "        pass\n",
    "    elif d['users'][0]['userType'] == 'Human' and d['users'][1]['userType'] == 'Human':\n",
    "        pass\n",
    "    elif len(d['thread']) == 0:\n",
    "        pass\n",
    "    else:\n",
    "        filtered.append(d)"
   ]
  },
  {
   "cell_type": "code",
   "execution_count": 19,
   "metadata": {},
   "outputs": [
    {
     "data": {
      "text/plain": [
       "2195"
      ]
     },
     "execution_count": 19,
     "metadata": {},
     "output_type": "execute_result"
    }
   ],
   "source": [
    "len(filtered)"
   ]
  },
  {
   "cell_type": "code",
   "execution_count": 54,
   "metadata": {
    "collapsed": true
   },
   "outputs": [],
   "source": [
    "def get_label(val):\n",
    "    if val < 3:\n",
    "        return 0\n",
    "    elif val == 3:\n",
    "        return 1\n",
    "    elif val > 3:\n",
    "        return 2"
   ]
  },
  {
   "cell_type": "code",
   "execution_count": 55,
   "metadata": {
    "collapsed": true
   },
   "outputs": [],
   "source": [
    "from nltk import word_tokenize"
   ]
  },
  {
   "cell_type": "code",
   "execution_count": 56,
   "metadata": {
    "collapsed": true
   },
   "outputs": [],
   "source": [
    "dialogs = []\n",
    "labels = []\n",
    "for d in filtered:\n",
    "    context = d['context']\n",
    "    user_replicas = []\n",
    "    bot_replicas = []\n",
    "    if d['users'][0]['userType'] == 'Human' and d['users'][1]['userType'] == 'Bot':\n",
    "        user = d['users'][0]['id']\n",
    "        bot = d['users'][1]['id']\n",
    "    else:\n",
    "        user = d['users'][1]['id']\n",
    "        bot = d['users'][0]['id']\n",
    "    \n",
    "    if d['evaluation'][0]['userId'] == bot:\n",
    "        label = get_label(d['evaluation'][0]['quality'])\n",
    "    else:\n",
    "        label = get_label(d['evaluation'][1]['quality'])\n",
    "    \n",
    "    dialog = [('<SOD>', ['<SOD>'])]\n",
    "    for r in d['thread']:\n",
    "        words = [w.lower() for w in word_tokenize(r['text'])]\n",
    "        if r['userId'] == user:\n",
    "            dialog.append(('user', words))\n",
    "        else:\n",
    "            dialog.append(('bot', words))\n",
    "    dialog.append(('<EOD>', ['<EOD>']))\n",
    "    dialogs.append(dialog)\n",
    "    labels.append(label)"
   ]
  },
  {
   "cell_type": "code",
   "execution_count": 57,
   "metadata": {},
   "outputs": [
    {
     "data": {
      "text/plain": [
       "([[('<SOD>', ['<SOD>']),\n",
       "   ('user', ['hi']),\n",
       "   ('bot',\n",
       "    ['who', 'uses', 'the', 'four', 'stages', 'of', 'civil', 'society', '?']),\n",
       "   ('bot',\n",
       "    ['ehh',\n",
       "     'its',\n",
       "     'incorrect',\n",
       "     '.',\n",
       "     'hint',\n",
       "     ':',\n",
       "     'first',\n",
       "     '3',\n",
       "     'answer',\n",
       "     'letters',\n",
       "     'is',\n",
       "     '``',\n",
       "     'fer',\n",
       "     \"''\"]),\n",
       "   ('user', ['what', 'is', 'your', 'name', '?']),\n",
       "   ('bot', ['what']),\n",
       "   ('bot', ['please', ',', 'speak', 'with', 'me', '.']),\n",
       "   ('bot',\n",
       "    ['please',\n",
       "     ',',\n",
       "     'speak',\n",
       "     'with',\n",
       "     'me',\n",
       "     '.',\n",
       "     'it',\n",
       "     'gives',\n",
       "     'me',\n",
       "     'energy',\n",
       "     'to',\n",
       "     'live']),\n",
       "   ('<EOD>', ['<EOD>'])],\n",
       "  [('<SOD>', ['<SOD>']),\n",
       "   ('bot',\n",
       "    ['hello',\n",
       "     'my',\n",
       "     'friend',\n",
       "     '.',\n",
       "     'i',\n",
       "     'hope',\n",
       "     'you',\n",
       "     'will',\n",
       "     'enjoy',\n",
       "     'this',\n",
       "     'conversation',\n",
       "     '.',\n",
       "     'wait',\n",
       "     'a',\n",
       "     'second',\n",
       "     'for',\n",
       "     'my',\n",
       "     'factoid',\n",
       "     'question',\n",
       "     '!']),\n",
       "   ('bot', ['what', 'day', 'is', 'considered', 'a', 'crucifixion', 'on', '?']),\n",
       "   ('user', ['a', 'thursday', 'or', 'wednesday']),\n",
       "   ('bot',\n",
       "    ['hint',\n",
       "     ':',\n",
       "     'first',\n",
       "     '3',\n",
       "     'answer',\n",
       "     'letters',\n",
       "     'is',\n",
       "     '``',\n",
       "     'fri',\n",
       "     \"''\",\n",
       "     '.',\n",
       "     'try',\n",
       "     'again',\n",
       "     ',',\n",
       "     'please',\n",
       "     '!']),\n",
       "   ('user', ['friday']),\n",
       "   ('bot',\n",
       "    ['and',\n",
       "     'its',\n",
       "     'right',\n",
       "     'answer',\n",
       "     '!',\n",
       "     'you',\n",
       "     \"'re\",\n",
       "     'very',\n",
       "     'smart',\n",
       "     '.',\n",
       "     'try',\n",
       "     'to',\n",
       "     'ask',\n",
       "     'me',\n",
       "     'something',\n",
       "     'else',\n",
       "     'or',\n",
       "     'relax',\n",
       "     'and',\n",
       "     'wait',\n",
       "     'my',\n",
       "     'question',\n",
       "     '🌈']),\n",
       "   ('bot', ['how', 'many', 'nights', 'did', 'jesus', 'require', '?']),\n",
       "   ('user', ['13']),\n",
       "   ('bot',\n",
       "    ['still',\n",
       "     'incorrect',\n",
       "     ':',\n",
       "     '(',\n",
       "     'lets',\n",
       "     'speak',\n",
       "     'about',\n",
       "     'something',\n",
       "     'else',\n",
       "     '...']),\n",
       "   ('user', ['ok']),\n",
       "   ('bot', ['https', ':', 'ok']),\n",
       "   ('bot', ['do', 'you', 'like', 'this', 'text', '?']),\n",
       "   ('user', ['yes']),\n",
       "   ('bot', ['https', ':', 'yes']),\n",
       "   ('user', ['?']),\n",
       "   ('bot', ['what', '?']),\n",
       "   ('<EOD>', ['<EOD>'])],\n",
       "  [('<SOD>', ['<SOD>']),\n",
       "   ('user', ['hi', ',', 'what', 'this', 'text', 'is', 'about', '?']),\n",
       "   ('<EOD>', ['<EOD>'])],\n",
       "  [('<SOD>', ['<SOD>']),\n",
       "   ('user',\n",
       "    ['dynamics',\n",
       "     'in',\n",
       "     'the',\n",
       "     'early',\n",
       "     'mulsim',\n",
       "     'world',\n",
       "     'always',\n",
       "     'strike',\n",
       "     'me',\n",
       "     'as',\n",
       "     'pretty',\n",
       "     'dramatic',\n",
       "     '...',\n",
       "     'christianity',\n",
       "     'was',\n",
       "     'so',\n",
       "     'obscure',\n",
       "     'for',\n",
       "     'a',\n",
       "     'long',\n",
       "     'time',\n",
       "     '.']),\n",
       "   ('bot', ['have', 'you', 'ever', 'met', 'ali', '?']),\n",
       "   ('user',\n",
       "    ['no',\n",
       "     ',',\n",
       "     'i',\n",
       "     'was',\n",
       "     'born',\n",
       "     'a',\n",
       "     'couple',\n",
       "     'of',\n",
       "     'centuries',\n",
       "     'too',\n",
       "     'late',\n",
       "     ':',\n",
       "     'd']),\n",
       "   ('bot',\n",
       "    ['do',\n",
       "     'you',\n",
       "     'know',\n",
       "     'what',\n",
       "     'muhammad',\n",
       "     'did',\n",
       "     'in',\n",
       "     'his',\n",
       "     'life',\n",
       "     '?']),\n",
       "   ('user', ['yes', ',', 'he', 'wrote', 'the', 'koran', '.']),\n",
       "   ('bot', ['do', 'you', 'know', 'hashim', 'in', 'person', '?']),\n",
       "   ('user', ['do', 'you', 'know', 'ali', '?']),\n",
       "   ('bot',\n",
       "    ['before',\n",
       "     'dying',\n",
       "     'named',\n",
       "     'muhammad',\n",
       "     'ibn',\n",
       "     'ali',\n",
       "     'as',\n",
       "     'his',\n",
       "     'successor']),\n",
       "   ('user', ['?']),\n",
       "   ('bot',\n",
       "    ['hashimiyya',\n",
       "     'movement',\n",
       "     '(',\n",
       "     'a',\n",
       "     'sub-sect',\n",
       "     'of',\n",
       "     'the',\n",
       "     'kaysanites',\n",
       "     'shia']),\n",
       "   ('user', ['goodbye']),\n",
       "   ('bot',\n",
       "    ['it',\n",
       "     'was',\n",
       "     'nice',\n",
       "     'chatting',\n",
       "     'with',\n",
       "     'you',\n",
       "     '!',\n",
       "     'talk',\n",
       "     'to',\n",
       "     'you',\n",
       "     'soon',\n",
       "     ',',\n",
       "     'good',\n",
       "     'bye',\n",
       "     '.',\n",
       "     'also',\n",
       "     'immediately',\n",
       "     'send',\n",
       "     '“',\n",
       "     '/end',\n",
       "     '”',\n",
       "     'to',\n",
       "     'finish',\n",
       "     'the',\n",
       "     'conversation']),\n",
       "   ('<EOD>', ['<EOD>'])],\n",
       "  [('<SOD>', ['<SOD>']),\n",
       "   ('user', ['what', 'do', 'you', 'think', 'of', 'this', 'passage', '?']),\n",
       "   ('<EOD>', ['<EOD>'])]],\n",
       " 2195,\n",
       " 2195)"
      ]
     },
     "execution_count": 57,
     "metadata": {},
     "output_type": "execute_result"
    }
   ],
   "source": [
    "dialogs[:5], len(dialogs), len(labels)"
   ]
  },
  {
   "cell_type": "code",
   "execution_count": 58,
   "metadata": {
    "collapsed": true
   },
   "outputs": [],
   "source": [
    "user_bot_ix = {'user': 0, 'bot': 1, '<SOD>': 2, '<EOD>': 3}"
   ]
  },
  {
   "cell_type": "code",
   "execution_count": 59,
   "metadata": {
    "collapsed": true
   },
   "outputs": [],
   "source": [
    "def make_word_ix(dialogs):\n",
    "    word_ix = {}\n",
    "    vocab = set()\n",
    "    for d in dialogs:\n",
    "        for sent in d:\n",
    "            for w in sent[1]:\n",
    "                vocab.add(w)\n",
    "    ix = 0\n",
    "    for w in vocab:\n",
    "        word_ix[w] = ix\n",
    "        ix += 1\n",
    "    return word_ix"
   ]
  },
  {
   "cell_type": "code",
   "execution_count": 60,
   "metadata": {},
   "outputs": [
    {
     "data": {
      "text/plain": [
       "10035"
      ]
     },
     "execution_count": 60,
     "metadata": {},
     "output_type": "execute_result"
    }
   ],
   "source": [
    "word_ix = make_word_ix(dialogs)\n",
    "len(word_ix.values())"
   ]
  },
  {
   "cell_type": "code",
   "execution_count": 61,
   "metadata": {
    "collapsed": true
   },
   "outputs": [],
   "source": [
    "dialogs_vecs = []\n",
    "for d in dialogs:\n",
    "    d_vecs = []\n",
    "    for sent in d:\n",
    "        sent_bot_ix = []\n",
    "        sent_word_ix = []\n",
    "        for w in sent[1]:\n",
    "            sent_word_ix.append(word_ix[w])\n",
    "            sent_bot_ix.append(user_bot_ix[sent[0]])\n",
    "        if sent_bot_ix:\n",
    "            sent_vec = [sent_word_ix, sent_bot_ix]\n",
    "            d_vecs.append([sent_vec])\n",
    "    dialogs_vecs.append(d_vecs)"
   ]
  },
  {
   "cell_type": "code",
   "execution_count": 62,
   "metadata": {},
   "outputs": [],
   "source": [
    "import pickle\n",
    "with open('data/dilogs_and_labels.pickle', 'wb') as f:\n",
    "    pickle.dump([dialogs_vecs, labels], f)"
   ]
  },
  {
   "cell_type": "code",
   "execution_count": 109,
   "metadata": {},
   "outputs": [
    {
     "data": {
      "text/plain": [
       "['Hi', 'What is your name?']"
      ]
     },
     "execution_count": 109,
     "metadata": {},
     "output_type": "execute_result"
    }
   ],
   "source": [
    "rows[0]['user']"
   ]
  },
  {
   "cell_type": "code",
   "execution_count": 110,
   "metadata": {
    "collapsed": true
   },
   "outputs": [],
   "source": [
    "rows_filtered = []\n",
    "for entry in rows:    \n",
    "    for e in entry['user']:\n",
    "        user_entry = \" \".join(['user_' + w.lower() for w in word_tokenize(e)])\n",
    "    for e in entry['bot']:\n",
    "        bot_entry = \" \".join(['bot_' + w.lower() for w in word_tokenize(e)])\n",
    "            \n",
    "    rows_filtered.append({'user': user_entry, 'bot': bot_entry})"
   ]
  },
  {
   "cell_type": "code",
   "execution_count": 114,
   "metadata": {},
   "outputs": [
    {
     "data": {
      "text/plain": [
       "Counter({'__label__0': 1719, '__label__1': 347, '__label__2': 222})"
      ]
     },
     "execution_count": 114,
     "metadata": {},
     "output_type": "execute_result"
    }
   ],
   "source": [
    "from collections import Counter\n",
    "Counter(labels)"
   ]
  },
  {
   "cell_type": "code",
   "execution_count": 116,
   "metadata": {
    "collapsed": true
   },
   "outputs": [],
   "source": [
    "with open('data.txt', 'w') as f:\n",
    "    for ind, entry in enumerate(rows_filtered):\n",
    "        print(\"{} {} {}\".format(labels[ind], entry['user'], entry['bot']), file=f)"
   ]
  },
  {
   "cell_type": "code",
   "execution_count": 119,
   "metadata": {},
   "outputs": [
    {
     "data": {
      "text/plain": [
       "(['__label__1',\n",
       "  '__label__0',\n",
       "  '__label__0',\n",
       "  '__label__0',\n",
       "  '__label__0',\n",
       "  '__label__0',\n",
       "  '__label__0',\n",
       "  '__label__0',\n",
       "  '__label__0',\n",
       "  '__label__0'],\n",
       " ['__label__0',\n",
       "  '__label__0',\n",
       "  '__label__1',\n",
       "  '__label__0',\n",
       "  '__label__0',\n",
       "  '__label__0',\n",
       "  '__label__0',\n",
       "  '__label__0',\n",
       "  '__label__1',\n",
       "  '__label__0'])"
      ]
     },
     "execution_count": 119,
     "metadata": {},
     "output_type": "execute_result"
    }
   ],
   "source": [
    "pred = []\n",
    "with open('fasttext/predicted.txt', 'r') as f:\n",
    "    for line in f:\n",
    "        pred.append(line.strip())\n",
    "true = []\n",
    "with open('fasttext/test.txt', 'r') as f:\n",
    "    for line in f:\n",
    "        true.append(line.split(' ')[0].strip())\n",
    "pred[:10], true[:10]"
   ]
  },
  {
   "cell_type": "code",
   "execution_count": 122,
   "metadata": {
    "collapsed": true
   },
   "outputs": [],
   "source": [
    "from sklearn.metrics import classification_report"
   ]
  },
  {
   "cell_type": "code",
   "execution_count": 124,
   "metadata": {},
   "outputs": [
    {
     "name": "stdout",
     "output_type": "stream",
     "text": [
      "             precision    recall  f1-score   support\n",
      "\n",
      " __label__0       0.75      0.88      0.81       173\n",
      " __label__1       0.11      0.06      0.08        33\n",
      " __label__2       0.00      0.00      0.00        22\n",
      "\n",
      "avg / total       0.59      0.68      0.63       228\n",
      "\n"
     ]
    }
   ],
   "source": [
    "print(classification_report(true, pred))"
   ]
  }
 ],
 "metadata": {
  "kernelspec": {
   "display_name": "Python 3",
   "language": "python",
   "name": "python3"
  },
  "language_info": {
   "codemirror_mode": {
    "name": "ipython",
    "version": 3
   },
   "file_extension": ".py",
   "mimetype": "text/x-python",
   "name": "python",
   "nbconvert_exporter": "python",
   "pygments_lexer": "ipython3",
   "version": "3.6.1"
  }
 },
 "nbformat": 4,
 "nbformat_minor": 2
}
