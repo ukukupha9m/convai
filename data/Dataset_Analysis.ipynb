{
 "cells": [
  {
   "cell_type": "markdown",
   "metadata": {},
   "source": [
    "# Overview of Conversational Intelligence Challenge 1st Roud Dataset"
   ]
  },
  {
   "cell_type": "code",
   "execution_count": 1,
   "metadata": {
    "collapsed": true
   },
   "outputs": [],
   "source": [
    "%matplotlib inline\n",
    "\n",
    "import matplotlib\n",
    "import numpy as np\n",
    "import matplotlib.pyplot as plt\n",
    "import json"
   ]
  },
  {
   "cell_type": "code",
   "execution_count": 2,
   "metadata": {
    "collapsed": true
   },
   "outputs": [],
   "source": [
    "with open(\"train_full.json\") as f:\n",
    "    dataset = json.load(f)"
   ]
  },
  {
   "cell_type": "code",
   "execution_count": 3,
   "metadata": {
    "collapsed": false
   },
   "outputs": [],
   "source": [
    "# dataset[50][\"thread\"] # print some data"
   ]
  },
  {
   "cell_type": "markdown",
   "metadata": {},
   "source": [
    "## 1. Number of dialogs with more then 2 turns from each side"
   ]
  },
  {
   "cell_type": "code",
   "execution_count": 4,
   "metadata": {
    "collapsed": false
   },
   "outputs": [
    {
     "data": {
      "text/plain": [
       "1719"
      ]
     },
     "execution_count": 4,
     "metadata": {},
     "output_type": "execute_result"
    }
   ],
   "source": [
    "long_dialogs = 0\n",
    "dialog_lens = []\n",
    "\n",
    "for d in dataset:\n",
    "    Alice = 0\n",
    "    Bob = 0\n",
    "    for u in d[\"thread\"]:\n",
    "        if u[\"userId\"] == \"Alice\":\n",
    "            Alice += 1\n",
    "        elif u[\"userId\"] == \"Bob\":\n",
    "            Bob += 1\n",
    "        else: \n",
    "            raise ValueError\n",
    "    \n",
    "    dialog_lens.append(Alice + Bob)\n",
    "    if Alice > 2 and Bob > 2:\n",
    "        long_dialogs += 1\n",
    "\n",
    "long_dialogs"
   ]
  },
  {
   "cell_type": "markdown",
   "metadata": {},
   "source": [
    "## 2. Distribution of dialog lengtns measured in turns"
   ]
  },
  {
   "cell_type": "code",
   "execution_count": 7,
   "metadata": {
    "collapsed": false
   },
   "outputs": [
    {
     "data": {
      "image/png": "[encoded data removed]",
      "text/plain": [
       "<matplotlib.figure.Figure at 0x2a8b0221cf8>"
      ]
     },
     "metadata": {},
     "output_type": "display_data"
    }
   ],
   "source": [
    "plot = plt.hist(dialog_lens, bins=10, range=(0,50))"
   ]
  },
  {
   "cell_type": "code",
   "execution_count": 8,
   "metadata": {
    "collapsed": false
   },
   "outputs": [],
   "source": [
    "# dataset[200] # print some data"
   ]
  },
  {
   "cell_type": "code",
   "execution_count": 9,
   "metadata": {
    "collapsed": true
   },
   "outputs": [],
   "source": [
    "human_lens = []\n",
    "bot_lens = []\n",
    "for d in dataset:\n",
    "    for user in d[\"users\"]:\n",
    "        if user[\"id\"] == \"Alice\":\n",
    "            Alice = True if user[\"userType\"] == \"Human\" else False\n",
    "        elif user[\"id\"] == \"Bob\":\n",
    "            Bob = True if user[\"userType\"] == \"Human\" else False\n",
    "    for u in d[\"thread\"]:\n",
    "        if u[\"userId\"] == \"Alice\":\n",
    "            if Alice:\n",
    "                human_lens.append(len(u[\"text\"]))\n",
    "            else:\n",
    "                bot_lens.append(len(u[\"text\"]))\n",
    "        elif u[\"userId\"] == \"Bob\":\n",
    "            if Bob:\n",
    "                human_lens.append(len(u[\"text\"]))\n",
    "            else:\n",
    "                bot_lens.append(len(u[\"text\"]))"
   ]
  },
  {
   "cell_type": "markdown",
   "metadata": {},
   "source": [
    "## 3. Distribution of turn lengths in characters"
   ]
  },
  {
   "cell_type": "code",
   "execution_count": 32,
   "metadata": {
    "collapsed": false,
    "scrolled": false
   },
   "outputs": [
    {
     "data": {
      "image/png": "[encoded data removed]",
      "text/plain": [
       "<matplotlib.figure.Figure at 0x2a8b0743dd8>"
      ]
     },
     "metadata": {},
     "output_type": "display_data"
    }
   ],
   "source": [
    "plot = plt.hist((human_lens,bot_lens), bins=10, normed = 1, range=(0,200), label = ('human','bot'))\n",
    "l = plt.legend()"
   ]
  },
  {
   "cell_type": "code",
   "execution_count": 33,
   "metadata": {
    "collapsed": true
   },
   "outputs": [],
   "source": [
    "human_eval = []\n",
    "bot_eval = []\n",
    "for d in dataset:\n",
    "    for user in d[\"users\"]:\n",
    "        if user[\"id\"] == \"Alice\":\n",
    "            Alice = True if user[\"userType\"] == \"Human\" else False\n",
    "        elif user[\"id\"] == \"Bob\":\n",
    "            Bob = True if user[\"userType\"] == \"Human\" else False\n",
    "    for u in d[\"thread\"]:\n",
    "        if u[\"userId\"] == \"Alice\":\n",
    "            if Alice:\n",
    "                human_eval.append((u[\"evaluation\"]-1))\n",
    "            else:\n",
    "                bot_eval.append((u[\"evaluation\"]-1))\n",
    "        elif u[\"userId\"] == \"Bob\":\n",
    "            if Bob:\n",
    "                human_eval.append((u[\"evaluation\"]-1))\n",
    "            else:\n",
    "                bot_eval.append((u[\"evaluation\"]-1))"
   ]
  },
  {
   "cell_type": "markdown",
   "metadata": {},
   "source": [
    "## 4. Distribution of turn scores (every turn is scored with {-1,0,+1})"
   ]
  },
  {
   "cell_type": "code",
   "execution_count": 34,
   "metadata": {
    "collapsed": false
   },
   "outputs": [
    {
     "data": {
      "image/png": "[encoded data removed]",
      "text/plain": [
       "<matplotlib.figure.Figure at 0x2a8b05385c0>"
      ]
     },
     "metadata": {},
     "output_type": "display_data"
    }
   ],
   "source": [
    "p = plt.hist((human_eval,bot_eval), bins=3,  normed = (1,1), label = ('human','bot'))\n",
    "l = plt.legend()"
   ]
  },
  {
   "cell_type": "code",
   "execution_count": 35,
   "metadata": {
    "collapsed": false
   },
   "outputs": [],
   "source": [
    "human_quality = []\n",
    "bot_quality = []\n",
    "for d in dataset:\n",
    "    for user in d[\"users\"]:\n",
    "        if user[\"id\"] == \"Alice\":\n",
    "            Alice = True if user[\"userType\"] == \"Human\" else False\n",
    "        elif user[\"id\"] == \"Bob\":\n",
    "            Bob = True if user[\"userType\"] == \"Human\" else False\n",
    "    for u in d[\"evaluation\"]:\n",
    "        if u[\"quality\"] > 0:\n",
    "            if u[\"userId\"] == \"Alice\":\n",
    "                if Alice:\n",
    "                    human_quality.append(u[\"quality\"])\n",
    "                else:\n",
    "                    bot_quality.append(u[\"quality\"])\n",
    "            elif u[\"userId\"] == \"Bob\":\n",
    "                if Bob:\n",
    "                    human_eval.append(u[\"quality\"])\n",
    "                else:\n",
    "                    bot_eval.append(u[\"quality\"])"
   ]
  },
  {
   "cell_type": "code",
   "execution_count": 24,
   "metadata": {
    "collapsed": false
   },
   "outputs": [],
   "source": [
    "# dataset[200]\n"
   ]
  },
  {
   "cell_type": "markdown",
   "metadata": {},
   "source": [
    "## 5. Distribution of overall dialogue quality"
   ]
  },
  {
   "cell_type": "code",
   "execution_count": 36,
   "metadata": {
    "collapsed": false
   },
   "outputs": [
    {
     "data": {
      "image/png": "[encoded data removed]",
      "text/plain": [
       "<matplotlib.figure.Figure at 0x2a8b061f2b0>"
      ]
     },
     "metadata": {},
     "output_type": "display_data"
    }
   ],
   "source": [
    "p = plt.hist((human_quality,bot_quality),  bins=5, normed = (1,1), label = ('human','bot'))\n",
    "l = plt.legend()"
   ]
  },
  {
   "cell_type": "code",
   "execution_count": 38,
   "metadata": {
    "collapsed": true
   },
   "outputs": [],
   "source": [
    "human_quality = []\n",
    "bot_quality = []\n",
    "for d in dataset:\n",
    "    for user in d[\"users\"]:\n",
    "        if user[\"id\"] == \"Alice\":\n",
    "            Alice = True if user[\"userType\"] == \"Human\" else False\n",
    "        elif user[\"id\"] == \"Bob\":\n",
    "            Bob = True if user[\"userType\"] == \"Human\" else False\n",
    "    for u in d[\"evaluation\"]:\n",
    "        if u[\"engagement\"] > 0:\n",
    "            if u[\"userId\"] == \"Alice\":\n",
    "                if Alice:\n",
    "                    human_quality.append(u[\"engagement\"])\n",
    "                else:\n",
    "                    bot_quality.append(u[\"engagement\"])\n",
    "            elif u[\"userId\"] == \"Bob\":\n",
    "                if Bob:\n",
    "                    human_eval.append(u[\"engagement\"])\n",
    "                else:\n",
    "                    bot_eval.append(u[\"engagement\"])"
   ]
  },
  {
   "cell_type": "markdown",
   "metadata": {},
   "source": [
    "## 6. Distribution of engagement scores"
   ]
  },
  {
   "cell_type": "code",
   "execution_count": 39,
   "metadata": {
    "collapsed": false
   },
   "outputs": [
    {
     "data": {
      "image/png": "[encoded data removed]",
      "text/plain": [
       "<matplotlib.figure.Figure at 0x2a8b07674a8>"
      ]
     },
     "metadata": {},
     "output_type": "display_data"
    }
   ],
   "source": [
    "p = plt.hist((human_quality,bot_quality),  bins=5, normed = (1,1), label = ('human','bot'))\n",
    "l = plt.legend()"
   ]
  },
  {
   "cell_type": "code",
   "execution_count": 40,
   "metadata": {
    "collapsed": true
   },
   "outputs": [],
   "source": [
    "human_quality = []\n",
    "bot_quality = []\n",
    "for d in dataset:\n",
    "    for user in d[\"users\"]:\n",
    "        if user[\"id\"] == \"Alice\":\n",
    "            Alice = True if user[\"userType\"] == \"Human\" else False\n",
    "        elif user[\"id\"] == \"Bob\":\n",
    "            Bob = True if user[\"userType\"] == \"Human\" else False\n",
    "    for u in d[\"evaluation\"]:\n",
    "        if u[\"engagement\"] > 0:\n",
    "            if u[\"userId\"] == \"Alice\":\n",
    "                if Alice:\n",
    "                    human_quality.append(u[\"breadth\"])\n",
    "                else:\n",
    "                    bot_quality.append(u[\"breadth\"])\n",
    "            elif u[\"userId\"] == \"Bob\":\n",
    "                if Bob:\n",
    "                    human_eval.append(u[\"breadth\"])\n",
    "                else:\n",
    "                    bot_eval.append(u[\"breadth\"])"
   ]
  },
  {
   "cell_type": "markdown",
   "metadata": {},
   "source": [
    "## 7. Distribution of breadth scores"
   ]
  },
  {
   "cell_type": "code",
   "execution_count": 41,
   "metadata": {
    "collapsed": false
   },
   "outputs": [
    {
     "data": {
      "image/png": "[encoded data removed]",
      "text/plain": [
       "<matplotlib.figure.Figure at 0x2a8b0629978>"
      ]
     },
     "metadata": {},
     "output_type": "display_data"
    }
   ],
   "source": [
    "p = plt.hist((human_quality,bot_quality),  bins=5, normed = (1,1), label = ('human','bot'))\n",
    "l = plt.legend()"
   ]
  }
 ],
 "metadata": {
  "anaconda-cloud": {},
  "kernelspec": {
   "display_name": "Python [tensorflow]",
   "language": "python",
   "name": "Python [tensorflow]"
  },
  "language_info": {
   "codemirror_mode": {
    "name": "ipython",
    "version": 3
   },
   "file_extension": ".py",
   "mimetype": "text/x-python",
   "name": "python",
   "nbconvert_exporter": "python",
   "pygments_lexer": "ipython3",
   "version": "3.5.3"
  },
  "nbpresent": {
   "slides": {},
   "themes": {
    "default": "5a7944b2-3cd1-4a7c-8f33-ec21122173e9",
    "theme": {
     "5a7944b2-3cd1-4a7c-8f33-ec21122173e9": {
      "backgrounds": {
       "dc7afa04-bf90-40b1-82a5-726e3cff5267": {
        "background-color": "31af15d2-7e15-44c5-ab5e-e04b16a89eff",
        "id": "dc7afa04-bf90-40b1-82a5-726e3cff5267"
       }
      },
      "id": "5a7944b2-3cd1-4a7c-8f33-ec21122173e9",
      "palette": {
       "19cc588f-0593-49c9-9f4b-e4d7cc113b1c": {
        "id": "19cc588f-0593-49c9-9f4b-e4d7cc113b1c",
        "rgb": [
         252,
         252,
         252
        ]
       },
       "31af15d2-7e15-44c5-ab5e-e04b16a89eff": {
        "id": "31af15d2-7e15-44c5-ab5e-e04b16a89eff",
        "rgb": [
         68,
         68,
         68
        ]
       },
       "50f92c45-a630-455b-aec3-788680ec7410": {
        "id": "50f92c45-a630-455b-aec3-788680ec7410",
        "rgb": [
         197,
         226,
         245
        ]
       },
       "c5cc3653-2ee1-402a-aba2-7caae1da4f6c": {
        "id": "c5cc3653-2ee1-402a-aba2-7caae1da4f6c",
        "rgb": [
         43,
         126,
         184
        ]
       },
       "efa7f048-9acb-414c-8b04-a26811511a21": {
        "id": "efa7f048-9acb-414c-8b04-a26811511a21",
        "rgb": [
         25.118061674008803,
         73.60176211453744,
         107.4819383259912
        ]
       }
      },
      "rules": {
       "a": {
        "color": "19cc588f-0593-49c9-9f4b-e4d7cc113b1c"
       },
       "blockquote": {
        "color": "50f92c45-a630-455b-aec3-788680ec7410",
        "font-size": 3
       },
       "code": {
        "font-family": "Anonymous Pro"
       },
       "h1": {
        "color": "19cc588f-0593-49c9-9f4b-e4d7cc113b1c",
        "font-family": "Merriweather",
        "font-size": 8
       },
       "h2": {
        "color": "19cc588f-0593-49c9-9f4b-e4d7cc113b1c",
        "font-family": "Merriweather",
        "font-size": 6
       },
       "h3": {
        "color": "50f92c45-a630-455b-aec3-788680ec7410",
        "font-family": "Lato",
        "font-size": 5.5
       },
       "h4": {
        "color": "c5cc3653-2ee1-402a-aba2-7caae1da4f6c",
        "font-family": "Lato",
        "font-size": 5
       },
       "h5": {
        "font-family": "Lato"
       },
       "h6": {
        "font-family": "Lato"
       },
       "h7": {
        "font-family": "Lato"
       },
       "li": {
        "color": "50f92c45-a630-455b-aec3-788680ec7410",
        "font-size": 3.25
       },
       "pre": {
        "font-family": "Anonymous Pro",
        "font-size": 4
       }
      },
      "text-base": {
       "color": "19cc588f-0593-49c9-9f4b-e4d7cc113b1c",
       "font-family": "Lato",
       "font-size": 4
      }
     },
     "f73f5c34-1f1f-4191-839a-1e989a342d19": {
      "id": "f73f5c34-1f1f-4191-839a-1e989a342d19",
      "palette": {
       "19cc588f-0593-49c9-9f4b-e4d7cc113b1c": {
        "id": "19cc588f-0593-49c9-9f4b-e4d7cc113b1c",
        "rgb": [
         252,
         252,
         252
        ]
       },
       "31af15d2-7e15-44c5-ab5e-e04b16a89eff": {
        "id": "31af15d2-7e15-44c5-ab5e-e04b16a89eff",
        "rgb": [
         68,
         68,
         68
        ]
       },
       "50f92c45-a630-455b-aec3-788680ec7410": {
        "id": "50f92c45-a630-455b-aec3-788680ec7410",
        "rgb": [
         155,
         177,
         192
        ]
       },
       "c5cc3653-2ee1-402a-aba2-7caae1da4f6c": {
        "id": "c5cc3653-2ee1-402a-aba2-7caae1da4f6c",
        "rgb": [
         43,
         126,
         184
        ]
       },
       "efa7f048-9acb-414c-8b04-a26811511a21": {
        "id": "efa7f048-9acb-414c-8b04-a26811511a21",
        "rgb": [
         25.118061674008803,
         73.60176211453744,
         107.4819383259912
        ]
       }
      },
      "rules": {
       "blockquote": {
        "color": "50f92c45-a630-455b-aec3-788680ec7410"
       },
       "code": {
        "font-family": "Anonymous Pro"
       },
       "h1": {
        "color": "c5cc3653-2ee1-402a-aba2-7caae1da4f6c",
        "font-family": "Lato",
        "font-size": 8
       },
       "h2": {
        "color": "c5cc3653-2ee1-402a-aba2-7caae1da4f6c",
        "font-family": "Lato",
        "font-size": 6
       },
       "h3": {
        "color": "50f92c45-a630-455b-aec3-788680ec7410",
        "font-family": "Lato",
        "font-size": 5.5
       },
       "h4": {
        "color": "c5cc3653-2ee1-402a-aba2-7caae1da4f6c",
        "font-family": "Lato",
        "font-size": 5
       },
       "h5": {
        "font-family": "Lato"
       },
       "h6": {
        "font-family": "Lato"
       },
       "h7": {
        "font-family": "Lato"
       },
       "pre": {
        "font-family": "Anonymous Pro",
        "font-size": 4
       }
      },
      "text-base": {
       "font-family": "Merriweather",
       "font-size": 4
      }
     }
    }
   }
  }
 },
 "nbformat": 4,
 "nbformat_minor": 1
}
