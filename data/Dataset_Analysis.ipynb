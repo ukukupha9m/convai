{
 "cells": [
  {
   "cell_type": "markdown",
   "metadata": {},
   "source": [
    "# Overview of Conversational Intelligence Challenge 1st Roud Dataset"
   ]
  },
  {
   "cell_type": "code",
   "execution_count": 1,
   "metadata": {
    "collapsed": true
   },
   "outputs": [],
   "source": [
    "from __future__ import division, print_function\n",
    "%matplotlib inline\n",
    "\n",
    "import matplotlib\n",
    "import numpy as np\n",
    "import matplotlib.pyplot as plt\n",
    "import json\n",
    "from collections import defaultdict\n",
    "from nltk import wordpunct_tokenize\n",
    "from scipy.stats import pearsonr, spearmanr"
   ]
  },
  {
   "cell_type": "code",
   "execution_count": 3,
   "metadata": {},
   "outputs": [],
   "source": [
    "with open(\"train_full.json\") as f:\n",
    "    dataset = json.load(f)"
   ]
  },
  {
   "cell_type": "code",
   "execution_count": 4,
   "metadata": {
    "collapsed": true
   },
   "outputs": [],
   "source": [
    "human_human, human_bot = np.zeros((len(dataset), )), np.zeros((len(dataset), ))\n",
    "for i, d in enumerate(dataset):\n",
    "    human, bot = 0, 0\n",
    "    for u in d['users']:\n",
    "        if u['userType'] == 'Human':\n",
    "            human += 1\n",
    "        elif u['userType'] == 'Bot':\n",
    "            bot += 1\n",
    "        else:\n",
    "            print('Unknown user type: {}'.format(u['userType']))\n",
    "    if human == 2:\n",
    "        human_human[i] = 1\n",
    "    elif human == 1 and bot == 1:\n",
    "        human_bot[i] = 1\n",
    "    else:\n",
    "        print('Unknown combination of users: human = {}, bot = {}'.format(human, bot))"
   ]
  },
  {
   "cell_type": "markdown",
   "metadata": {},
   "source": [
    "## 1. Dialogue statistics"
   ]
  },
  {
   "cell_type": "code",
   "execution_count": 5,
   "metadata": {
    "collapsed": true
   },
   "outputs": [],
   "source": [
    "silent_user = []\n",
    "long_dialogue = []\n",
    "empty_dialogue = []\n",
    "for i, d in enumerate(dataset):\n",
    "    user_utt = defaultdict(int)\n",
    "    user_map = {}\n",
    "    if len(d['thread']) == 0:\n",
    "        empty_dialogue.append(i)\n",
    "        continue\n",
    "    for th in d['thread']:\n",
    "        user_utt[th['userId']] += 1\n",
    "    for u in d['users']:\n",
    "        if u['userType'] == 'Human':\n",
    "            user_map[u['id']] = 'human'\n",
    "        elif u['userType'] == 'Bot':\n",
    "            user_map[u['id']] = 'bot'\n",
    "        else:\n",
    "            print('Unknown user type: {}'.format(u['userType']))\n",
    "    for u in user_map:\n",
    "        if u not in user_utt:\n",
    "            silent_user.append(i)\n",
    "            break\n",
    "    ok = False\n",
    "    for u in user_map:\n",
    "        if user_utt[u] > 2:\n",
    "            if ok:\n",
    "                long_dialogue.append(i)\n",
    "            else:\n",
    "                ok = True"
   ]
  },
  {
   "cell_type": "markdown",
   "metadata": {},
   "source": [
    "### 1.1 Length of dialogues"
   ]
  },
  {
   "cell_type": "code",
   "execution_count": 6,
   "metadata": {},
   "outputs": [
    {
     "name": "stdout",
     "output_type": "stream",
     "text": [
      "\t\t\tTotal\tHuman-to-bot\tHuman-to-human\n",
      "All dialogues\t\t2778\t\t441\t\t2337\n",
      "Empty dialogues\t\t119\t\t66\t\t53\n",
      "One-sided dialogues\t560\t\t229\t\t331\n",
      "Long dialogues\t\t1719\t\t368\t\t1351\n"
     ]
    }
   ],
   "source": [
    "print('\\t\\t\\tTotal\\tHuman-to-bot\\tHuman-to-human')\n",
    "\n",
    "# Total\n",
    "hh_dialog = [d for i, d in enumerate(dataset) if human_human[i] == 1]\n",
    "hb_dialog = [d for i, d in enumerate(dataset) if human_bot[i] == 1]\n",
    "print('All dialogues\\t\\t{}\\t\\t{}\\t\\t{}'.format(len(dataset), len(hh_dialog), len(hb_dialog)))\n",
    "\n",
    "# Empty\n",
    "hh_empty = [d for i, d in enumerate(empty_dialogue) if human_human[i] == 1]\n",
    "hb_emtpy = [d for i, d in enumerate(empty_dialogue) if human_bot[i] == 1]\n",
    "print('Empty dialogues\\t\\t{}\\t\\t{}\\t\\t{}'.format(len(empty_dialogue), len(hh_empty), len(hb_emtpy)))\n",
    "\n",
    "# One-sided\n",
    "hh_silent = [d for i, d in enumerate(silent_user) if human_human[i] == 1]\n",
    "hb_silent = [d for i, d in enumerate(silent_user) if human_bot[i] == 1]\n",
    "print('One-sided dialogues\\t{}\\t\\t{}\\t\\t{}'.format(len(silent_user), len(hh_silent), len(hb_silent)))\n",
    "\n",
    "# Long dialogues\n",
    "hh_long = [d for i, d in enumerate(long_dialogue) if human_human[i] == 1]\n",
    "hb_long = [d for i, d in enumerate(long_dialogue) if human_bot[i] == 1]\n",
    "print('Long dialogues\\t\\t{}\\t\\t{}\\t\\t{}'.format(len(long_dialogue), len(hh_long), len(hb_long)))"
   ]
  },
  {
   "cell_type": "markdown",
   "metadata": {},
   "source": [
    "### 1.2 Length of utterances"
   ]
  },
  {
   "cell_type": "code",
   "execution_count": 7,
   "metadata": {},
   "outputs": [
    {
     "data": {
      "image/png": "[encoded data removed]",
      "text/plain": [
       "<matplotlib.figure.Figure at 0x7f72f6382a90>"
      ]
     },
     "metadata": {},
     "output_type": "display_data"
    }
   ],
   "source": [
    "n_words, n_utt = [],[]\n",
    "word_in_utt = []\n",
    "word_in_utt_hier = []\n",
    "for d in dataset:\n",
    "    cur_utt = 0\n",
    "    cur_words = 0\n",
    "    cur_w_i_u = []\n",
    "    for th in d['thread']:    \n",
    "        text = wordpunct_tokenize(th['text'])\n",
    "        cur_utt += 1\n",
    "        cur_words += len(text)\n",
    "        word_in_utt.append(len(text))\n",
    "        cur_w_i_u.append(len(text))\n",
    "    n_words.append(cur_words)\n",
    "    n_utt.append(cur_utt)\n",
    "    word_in_utt_hier.append(cur_w_i_u)\n",
    "word_per_utt = [float(w)/float(u) if u > 0 else 0 for w, u in zip(n_words, n_utt)]\n",
    "filter_word_per_utt = [f for f in word_per_utt if f < 25]\n",
    "plot = plt.hist(filter_word_per_utt, bins=25)"
   ]
  },
  {
   "cell_type": "code",
   "execution_count": 8,
   "metadata": {},
   "outputs": [
    {
     "name": "stdout",
     "output_type": "stream",
     "text": [
      "\t\t\tTotal\t\tHuman-to-bot\tHuman-to-human\n",
      "Utt. per dialogue\t10.96\t\t10.73\t\t12.13\n",
      "Word per utt.\t\t7.31\t\t7.49\t\t6.28\n"
     ]
    }
   ],
   "source": [
    "print('\\t\\t\\tTotal\\t\\tHuman-to-bot\\tHuman-to-human')\n",
    "\n",
    "hh_utt = [d for i, d in enumerate(n_utt) if human_human[i] == 1]\n",
    "hb_utt = [d for i, d in enumerate(n_utt) if human_bot[i] == 1]\n",
    "print('Utt. per dialogue\\t%.2f\\t\\t%.2f\\t\\t%.2f' % (np.average(n_utt), np.average(hb_utt), np.average(hh_utt)))\n",
    "\n",
    "hh_word = [np.average(d) if len(d) > 0 else 0 for i, d in enumerate(word_in_utt_hier) if human_human[i] == 1]\n",
    "hb_word = [np.average(d) if len(d) > 0 else 0 for i, d in enumerate(word_in_utt_hier) if human_bot[i] == 1]\n",
    "print('Word per utt.\\t\\t%.2f\\t\\t%.2f\\t\\t%.2f' % (np.average(word_in_utt), np.average(hb_word), np.average(hh_word)))"
   ]
  },
  {
   "cell_type": "code",
   "execution_count": 9,
   "metadata": {},
   "outputs": [
    {
     "data": {
      "image/png": "[encoded data removed]",
      "text/plain": [
       "<matplotlib.figure.Figure at 0x7f73087df210>"
      ]
     },
     "metadata": {},
     "output_type": "display_data"
    }
   ],
   "source": [
    "human_lens = []\n",
    "bot_lens = []\n",
    "for d in dataset:\n",
    "    user_type = {}\n",
    "    for user in d[\"users\"]:\n",
    "        if user[\"userType\"] == 'Bot':\n",
    "            user_type[user['id']] = False\n",
    "        elif user[\"userType\"] == 'Human':\n",
    "            user_type[user['id']] = True\n",
    "    for th in d[\"thread\"]:\n",
    "        if user_type[th[\"userId\"]]:\n",
    "            human_lens.append(len(th[\"text\"]))\n",
    "        else:\n",
    "            bot_lens.append(len(th[\"text\"]))\n",
    "plot = plt.hist((human_lens,bot_lens), bins=10, normed = 1, range=(0,200), label = ('human','bot'))\n",
    "plt.xlabel('Length of utterance in characters')\n",
    "plt.ylabel('Frequency')\n",
    "l = plt.legend()"
   ]
  },
  {
   "cell_type": "markdown",
   "metadata": {},
   "source": [
    "## 2. Evaluation of dialogues"
   ]
  },
  {
   "cell_type": "markdown",
   "metadata": {},
   "source": [
    "### 2.1 Dialogue-level quality"
   ]
  },
  {
   "cell_type": "code",
   "execution_count": 18,
   "metadata": {},
   "outputs": [
    {
     "data": {
      "image/png": "[encoded data removed]",
      "text/plain": [
       "<matplotlib.figure.Figure at 0x7f7320cd6f50>"
      ]
     },
     "metadata": {},
     "output_type": "display_data"
    }
   ],
   "source": [
    "human_qual, bot_qual = [], []\n",
    "for i, d in enumerate(dataset):\n",
    "    users_map = {}\n",
    "    uids = []\n",
    "    users_scores = defaultdict(list)\n",
    "    dbl = False\n",
    "    for u in d['users']:\n",
    "        uids.append(u['id'])\n",
    "        if u['userType'] == 'Human':\n",
    "            users_map[u['id']] = True\n",
    "        elif u['userType'] == 'Bot':\n",
    "            users_map[u['id']] = False\n",
    "    if users_map[uids[0]] and users_map[uids[1]]:\n",
    "        dbl = True\n",
    "    #print(users_map)\n",
    "    for ev in d['evaluation']:\n",
    "        if dbl:\n",
    "            human_qual.append(ev['quality'])\n",
    "            continue\n",
    "        if (ev['userId'] == uids[0] and not users_map[uids[0]]) or (ev['userId'] == uids[1] and not users_map[uids[1]]):\n",
    "            bot_qual.append(ev['quality'])\n",
    "\n",
    "plot = plt.hist(human_qual, bins=5, normed=True, histtype='step', linewidth=3.0, label='human')\n",
    "plot = plt.hist(bot_qual, bins=5, normed=True, histtype='step', linewidth=3.0, label='bot')\n",
    "plt.xlabel('Dialogue-level quality')\n",
    "plt.ylabel('Frequency')\n",
    "l = plt.legend()\n",
    "#sum(bot_qual), len(bot_qual), len(human_qual)"
   ]
  },
  {
   "cell_type": "code",
   "execution_count": 19,
   "metadata": {},
   "outputs": [
    {
     "data": {
      "text/plain": [
       "<matplotlib.text.Text at 0x7f7320c40690>"
      ]
     },
     "execution_count": 19,
     "metadata": {},
     "output_type": "execute_result"
    },
    {
     "data": {
      "image/png": "[encoded data removed]",
      "text/plain": [
       "<matplotlib.figure.Figure at 0x7f7320a3b6d0>"
      ]
     },
     "metadata": {},
     "output_type": "display_data"
    }
   ],
   "source": [
    "plot = plt.hist(human_qual + bot_qual, bins=5)\n",
    "plt.xlabel('Dialogue-level quality')\n",
    "plt.ylabel('Number of dialogues')"
   ]
  },
  {
   "cell_type": "markdown",
   "metadata": {},
   "source": [
    "#### Correlation of dialogue-level scores"
   ]
  },
  {
   "cell_type": "code",
   "execution_count": 33,
   "metadata": {},
   "outputs": [
    {
     "name": "stdout",
     "output_type": "stream",
     "text": [
      "Breadth vs quality:  0.862067421121\n",
      "Engagement vs quality 0.866552465049\n",
      "Breadth vs engagement 0.868274314767\n"
     ]
    }
   ],
   "source": [
    "breadth, engagement, quality = [], [], []\n",
    "qu_dbl = [[], []]\n",
    "for d in dataset:\n",
    "    dbl = False\n",
    "    users_map = {}\n",
    "    uids = []\n",
    "    users_scores = defaultdict(list)\n",
    "    for u in d['users']:\n",
    "        uids.append(u['id'])\n",
    "        if u['userType'] == 'Human':\n",
    "            users_map[u['id']] = True\n",
    "        elif u['userType'] == 'Bot':\n",
    "            users_map[u['id']] = False\n",
    "    if users_map[uids[0]] and users_map[uids[1]]:\n",
    "        dbl = True\n",
    "    cur_dbl_q, cur_dbl_br, cur_dbl_en = [], [], []\n",
    "    for i, ev in enumerate(d['evaluation']):\n",
    "        if dbl:\n",
    "            cur_dbl_q.append(ev['quality'])\n",
    "            cur_dbl_br.append(ev['breadth'])\n",
    "            cur_dbl_en.append(ev['engagement'])\n",
    "        if (ev['userId'] == uids[0] and not users_map[uids[0]]) or (ev['userId'] == uids[1] and not users_map[uids[1]]):\n",
    "            breadth.append(ev['breadth'])\n",
    "            engagement.append(ev['engagement'])\n",
    "            quality.append(ev['quality'])\n",
    "            break\n",
    "    if dbl:\n",
    "        breadth.append(np.average(cur_dbl_br))\n",
    "        quality.append(np.average(cur_dbl_q))\n",
    "        engagement.append(np.average(cur_dbl_en))\n",
    "print('Breadth vs quality: ', pearsonr(breadth, quality)[0])\n",
    "print('Engagement vs quality', pearsonr(engagement, quality)[0])\n",
    "print('Breadth vs engagement', pearsonr(breadth, engagement)[0])"
   ]
  },
  {
   "cell_type": "markdown",
   "metadata": {},
   "source": [
    "### 2.2 Utterance-level quality"
   ]
  },
  {
   "cell_type": "code",
   "execution_count": 34,
   "metadata": {},
   "outputs": [
    {
     "data": {
      "image/png": "[encoded data removed]",
      "text/plain": [
       "<matplotlib.figure.Figure at 0x7f73085b3ad0>"
      ]
     },
     "metadata": {},
     "output_type": "display_data"
    }
   ],
   "source": [
    "human_utt, bot_utt = [], []\n",
    "for i, d in enumerate(dataset):\n",
    "    users = {}\n",
    "    for u in d['users']:\n",
    "        if u['userType'] == 'Human':\n",
    "            users[u['id']] = 'human'\n",
    "        elif u['userType'] == 'Bot':\n",
    "            users[u['id']] = 'bot'\n",
    "    for th in d['thread']:\n",
    "        if th['evaluation'] != 0:\n",
    "            try:\n",
    "                if users[th['userId']] == 'human':\n",
    "                    human_utt.append(th['evaluation'] - 1)\n",
    "                elif users[th['userId']] == 'bot':\n",
    "                    bot_utt.append(th['evaluation'] - 1)\n",
    "            except KeyError:\n",
    "                print('Unknown user {} in dialogue {}'.format(th['userId'], i))\n",
    "fig, ax = plt.subplots()\n",
    "\n",
    "h_avg, h_std = np.average(human_utt), np.std(human_utt)\n",
    "b_avg, b_std = np.average(bot_utt), np.std(bot_utt)\n",
    "human_utt_trans = [(h - h_avg)/h_std for h in human_utt]\n",
    "bot_utt_trans = [(b - b_avg)/b_std for b in bot_utt]\n",
    "ax.hist((human_utt, bot_utt), bins=2, label=('human', 'bot'), normed=True)\n",
    "l = plt.legend()\n",
    "plt.xlabel('Utterance-level scores')\n",
    "plt.ylabel('Frequency')\n",
    "plt.show()"
   ]
  },
  {
   "cell_type": "markdown",
   "metadata": {},
   "source": [
    "### 2.3 Dialogue-level vs utterance-level"
   ]
  },
  {
   "cell_type": "code",
   "execution_count": 38,
   "metadata": {},
   "outputs": [
    {
     "name": "stdout",
     "output_type": "stream",
     "text": [
      "Pearson r of averaged dialogue-level and utterance-level scores:  0.599473692247\n",
      "Pearson r of dialogue quality and utterance-level scores:  0.58565033503\n",
      "Pearson r of dialogue breadth and utterance-level scores:  0.564829055476\n",
      "Pearson r of dialogue engagement and utterance-level scores:  0.550253229084\n"
     ]
    },
    {
     "data": {
      "image/png": "[encoded data removed]",
      "text/plain": [
       "<matplotlib.figure.Figure at 0x7f73084cc290>"
      ]
     },
     "metadata": {},
     "output_type": "display_data"
    }
   ],
   "source": [
    "dialog_scores, utterance_scores = [], []\n",
    "for d in dataset:\n",
    "    cur_d, cur_u = [], []\n",
    "    # dialogue-level\n",
    "    for ev in d['evaluation']:\n",
    "        for k in ['breadth', 'engagement', 'quality']:\n",
    "        #for k in ['quality']:\n",
    "            if ev[k] != 0:\n",
    "                cur_d.append(ev[k])\n",
    "    # utterance-level\n",
    "    for th in d['thread']:\n",
    "        if th['evaluation'] != 0:\n",
    "            cur_u.append(th['evaluation']-1)\n",
    "    dialog_scores.append(cur_d)\n",
    "    utterance_scores.append(cur_u)\n",
    "filter_dialog_scores = [np.average(d_s) for d_s, u_s in zip(dialog_scores, utterance_scores) if len(d_s) != 0 and len(u_s) != 0]\n",
    "filter_utt_scores = [np.average(u_s) for d_s, u_s in zip(dialog_scores, utterance_scores) if len(d_s) != 0 and len(u_s) != 0]\n",
    "filter_quality = [q for q, u in zip(quality, utterance_scores) if len(u) != 0]\n",
    "filter_breadth = [q for q, u in zip(breadth, utterance_scores) if len(u) != 0]\n",
    "filter_engagement = [q for q, u in zip(engagement, utterance_scores) if len(u) != 0]\n",
    "filter_utt = [np.average(u) for u in utterance_scores if len(u) != 0]\n",
    "assert(len(filter_dialog_scores) == len(filter_utt_scores))\n",
    "#print(len(filter_dialog_scores))\n",
    "print('Pearson r of averaged dialogue-level and utterance-level scores: ', pearsonr(filter_dialog_scores, filter_utt_scores)[0])\n",
    "print('Pearson r of dialogue quality and utterance-level scores: ', pearsonr(filter_quality, filter_utt)[0])\n",
    "print('Pearson r of dialogue breadth and utterance-level scores: ', pearsonr(filter_breadth, filter_utt)[0])\n",
    "print('Pearson r of dialogue engagement and utterance-level scores: ', pearsonr(filter_engagement, filter_utt)[0])\n",
    "plt.scatter(filter_dialog_scores, filter_utt_scores)\n",
    "plt.xlabel('Dialogue-level quality')\n",
    "p = plt.ylabel('Utterance-level quality')"
   ]
  },
  {
   "cell_type": "markdown",
   "metadata": {},
   "source": [
    "### 2.4 Dialogue-level vs statistics"
   ]
  },
  {
   "cell_type": "code",
   "execution_count": 43,
   "metadata": {},
   "outputs": [
    {
     "name": "stdout",
     "output_type": "stream",
     "text": [
      "Correlation of quality and # of unique words:  0.408490803573\n",
      "Correlation of breadth and # of unique words:  0.363605305378\n",
      "Correlation of engagement and # of unique words:  0.424557408442\n",
      "\n",
      "Correlation of quality and # of utterances 0.320654420176\n",
      "Correlation of breadth and # of utterances 0.282580234131\n",
      "Correlation of engagement and # of utterances 0.333635490563\n"
     ]
    }
   ],
   "source": [
    "all_words = []\n",
    "for d in dataset:\n",
    "    cur_w = []\n",
    "    for th in d['thread']:\n",
    "        cur_w.extend(wordpunct_tokenize(th['text'].lower()))\n",
    "    all_words.append(cur_w)\n",
    "unique_words = [len(list(set(cur_w))) for cur_w in all_words]\n",
    "print('Correlation of quality and # of unique words: ', pearsonr(quality, unique_words)[0])\n",
    "print('Correlation of breadth and # of unique words: ', pearsonr(breadth, unique_words)[0])\n",
    "print('Correlation of engagement and # of unique words: ', pearsonr(engagement, unique_words)[0])\n",
    "\n",
    "all_dialog_lens = [len(d['thread']) for d in dataset]\n",
    "print('\\nCorrelation of quality and # of utterances', pearsonr(quality, all_dialog_lens)[0])\n",
    "print('Correlation of breadth and # of utterances', pearsonr(breadth, all_dialog_lens)[0])\n",
    "print('Correlation of engagement and # of utterances', pearsonr(engagement, all_dialog_lens)[0])"
   ]
  },
  {
   "cell_type": "code",
   "execution_count": 45,
   "metadata": {},
   "outputs": [
    {
     "name": "stdout",
     "output_type": "stream",
     "text": [
      "Correlation of quality and # of unique trigrams:  0.368187532407\n",
      "Correlation of breadth and # of unique trigrams:  0.318690126176\n",
      "Correlation of engagement and # of unique trigrams:  0.38662346273\n"
     ]
    }
   ],
   "source": [
    "from nltk import ngrams\n",
    "from collections import Counter\n",
    "from nltk import wordpunct_tokenize\n",
    "def ngram_count(dialogue, order):\n",
    "    total = []\n",
    "    for th in dialogue['thread']:\n",
    "        ngrams_txt = ngrams(wordpunct_tokenize(th['text']), order)\n",
    "        total.extend(ngrams_txt)\n",
    "    cc_total = Counter(total)\n",
    "    return cc_total\n",
    "\n",
    "trigram_distr = [len(ngram_count(d, 3)) for d in dataset]\n",
    "fourgram_distr = [len(ngram_count(d, 4)) for d in dataset]\n",
    "fivegram_distr = [len(ngram_count(d, 5)) for d in dataset]\n",
    "\n",
    "print('Correlation of quality and # of unique trigrams: ', pearsonr(trigram_distr, quality)[0])\n",
    "print('Correlation of breadth and # of unique trigrams: ', pearsonr(trigram_distr, breadth)[0])\n",
    "print('Correlation of engagement and # of unique trigrams: ', pearsonr(trigram_distr, engagement)[0])"
   ]
  },
  {
   "cell_type": "markdown",
   "metadata": {},
   "source": [
    "## 3. Topicality of conversations"
   ]
  },
  {
   "cell_type": "code",
   "execution_count": 46,
   "metadata": {
    "collapsed": true
   },
   "outputs": [],
   "source": [
    "# Do the users or bots use context as a topic for conversations?\n",
    "import nltk\n",
    "import string\n",
    "from sklearn.feature_extraction.text import TfidfVectorizer\n",
    "from nltk.stem.porter import PorterStemmer\n",
    "\n",
    "all_contexts = []\n",
    "all_contexts_trans = []\n",
    "for d in dataset:\n",
    "    all_contexts.append(d['context'])\n",
    "\n",
    "def stem_tokens(tokens, stemmer):\n",
    "    stemmed = []\n",
    "    for item in tokens:\n",
    "        stemmed.append(stemmer.stem(item))\n",
    "    return stemmed\n",
    "\n",
    "def tokenize(text):\n",
    "    tokens = nltk.word_tokenize(text)\n",
    "    stems = stem_tokens(tokens, PorterStemmer())\n",
    "    return stems\n",
    "\n",
    "for cont in all_contexts:\n",
    "    lowers = cont.lower()\n",
    "    no_punctuation = ''.join([l for l in lowers if l not in string.punctuation])\n",
    "    all_contexts_trans.append(no_punctuation)\n",
    "        \n",
    "#this can take some time\n",
    "tfidf = TfidfVectorizer(tokenizer=tokenize, stop_words='english')\n",
    "tfs = tfidf.fit_transform(all_contexts_trans)"
   ]
  },
  {
   "cell_type": "code",
   "execution_count": 47,
   "metadata": {},
   "outputs": [
    {
     "name": "stdout",
     "output_type": "stream",
     "text": [
      "Min. number of topic words:  0\n",
      "Max. number of topic words:  89\n",
      "Average number of topic words: 2.3750899928, std.deviation: 4.31687449545\n"
     ]
    }
   ],
   "source": [
    "# get words from the most informative (according to tf-idf) context word list that occur in the dialogue\n",
    "def get_intersections(sentences, context):\n",
    "    tr_table = {s: \"\" for s in string.punctuation}\n",
    "    feature_names = tfidf.get_feature_names()\n",
    "    response = tfidf.transform([context])\n",
    "    words_from_cont = []\n",
    "    for s in sentences:\n",
    "        lowers = s.lower()\n",
    "        no_punctuation = ''.join([l for l in lowers if l not in string.punctuation])\n",
    "        txt = tokenize(no_punctuation)\n",
    "        top15 = sorted([(feature_names[c], response[0,c]) for c in response.nonzero()[1]], key=lambda(k, v): v, reverse=True)[:15]\n",
    "        cont_words = [w for w, c in top15]\n",
    "        txt_common = [t for t in txt if t in cont_words]\n",
    "        words_from_cont.extend(txt_common)\n",
    "    return words_from_cont\n",
    "\n",
    "all_common_words = []\n",
    "for i, d in enumerate(dataset):\n",
    "    all_utt = [th['text'] for th in d['thread']]\n",
    "    ss = get_intersections(all_utt, all_contexts[i])\n",
    "    all_common_words.append(ss)\n",
    "\n",
    "all_lens = [len(a) for a in all_common_words]\n",
    "print('Min. number of topic words: ', min(all_lens))\n",
    "print('Max. number of topic words: ', max(all_lens))\n",
    "print('Average number of topic words: {}, std.deviation: {}'.format(np.average(all_lens), np.std(all_lens)))"
   ]
  },
  {
   "cell_type": "code",
   "execution_count": 48,
   "metadata": {},
   "outputs": [
    {
     "data": {
      "image/png": "[encoded data removed]",
      "text/plain": [
       "<matplotlib.figure.Figure at 0x7f7320ba53d0>"
      ]
     },
     "metadata": {},
     "output_type": "display_data"
    }
   ],
   "source": [
    "all_lens_below_30 = [a for a in all_lens if a < 30]\n",
    "plot = plt.hist(all_lens_below_30, bins=30)\n",
    "plt.xlabel('Number of words')\n",
    "p = plt.ylabel('Number of dialogues')"
   ]
  },
  {
   "cell_type": "code",
   "execution_count": 53,
   "metadata": {},
   "outputs": [
    {
     "name": "stdout",
     "output_type": "stream",
     "text": [
      "Correlation of dialogue-level quality and topicality:  0.199690426164\n",
      "Correlation of dialogue-level breadth and topicality:  0.164851360653\n",
      "Correlation of dialogue-level engagement and topicality:  0.181304229485\n",
      "\n",
      "Quality vs topicality for dialogues which contain at least 1 topic word:  0.15968945344\n",
      "Breadth vs topicality for dialogues which contain at least 1 topic word:  0.121599806681\n",
      "Engagement vs topicality for dialogues which contain at least 1 topic word:  0.128210932757\n"
     ]
    }
   ],
   "source": [
    "print('Correlation of dialogue-level quality and topicality: ', pearsonr(quality, all_lens)[0])\n",
    "print('Correlation of dialogue-level breadth and topicality: ', pearsonr(breadth, all_lens)[0])\n",
    "print('Correlation of dialogue-level engagement and topicality: ', pearsonr(engagement, all_lens)[0])\n",
    "non_zero_q = [q for q, a in zip(quality, all_lens) if a != 0]\n",
    "non_zero_b = [q for q, a in zip(breadth, all_lens) if a != 0]\n",
    "non_zero_e = [q for q, a in zip(engagement, all_lens) if a != 0]\n",
    "non_zero_a = [a for a in all_lens if a != 0]\n",
    "print('\\nQuality vs topicality for dialogues which contain at least 1 topic word: ', pearsonr(non_zero_q, non_zero_a)[0])\n",
    "print('Breadth vs topicality for dialogues which contain at least 1 topic word: ', pearsonr(non_zero_b, non_zero_a)[0])\n",
    "print('Engagement vs topicality for dialogues which contain at least 1 topic word: ', pearsonr(non_zero_e, non_zero_a)[0])"
   ]
  }
 ],
 "metadata": {
  "kernelspec": {
   "display_name": "Python 2",
   "language": "python",
   "name": "python2"
  },
  "language_info": {
   "codemirror_mode": {
    "name": "ipython",
    "version": 2
   },
   "file_extension": ".py",
   "mimetype": "text/x-python",
   "name": "python",
   "nbconvert_exporter": "python",
   "pygments_lexer": "ipython2",
   "version": "2.7.13"
  }
 },
 "nbformat": 4,
 "nbformat_minor": 2
}
